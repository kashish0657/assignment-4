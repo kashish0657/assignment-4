{
 "cells": [
  {
   "cell_type": "markdown",
   "id": "87f65118-deeb-466f-9d91-24c45832f6c4",
   "metadata": {},
   "source": [
    "30 january assignment"
   ]
  },
  {
   "cell_type": "code",
   "execution_count": null,
   "id": "7f6578da-4e90-4982-8ac7-be6a6b6ebcb8",
   "metadata": {},
   "outputs": [],
   "source": [
    "1:ans:-\n",
    "\n",
    "marks=int(input(\"enter marks :-\"))\n",
    "\n",
    "if marks>90:\n",
    "    print(\"Grade A\")\n",
    "elif marks>80 and marks<=90:\n",
    "    print(\"Grade B\")\n",
    "elif marks>=60 and marks<=80:\n",
    "    print(\"Grade C\")\n",
    "else:\n",
    "    print(\"Grade D\")"
   ]
  },
  {
   "cell_type": "code",
   "execution_count": null,
   "id": "a5b272e8-0c1b-4319-9edc-352f9b98c8d3",
   "metadata": {},
   "outputs": [],
   "source": [
    "2:ans:-\n",
    "\n",
    "cost_of_bike=int(input(\"enter the cost price of bike:-\"))\n",
    "\n",
    "if cost_of_bike > 100000:\n",
    "    tax=cost_of_bike*15/100\n",
    "    print(\"road tax =\",tax)\n",
    "elif cost_of_bike >50000 and cost_of_bike <=100000:\n",
    "    tax=cost_of_bike*10/100\n",
    "    print(\"road tax =\",tax)\n",
    "else:\n",
    "    tax=cost_of_bike*5/100\n",
    "    print(\"road tax =\",tax)\n",
    "    "
   ]
  },
  {
   "cell_type": "code",
   "execution_count": null,
   "id": "3e5c5445-d7b9-4af4-9750-deb726582d0c",
   "metadata": {},
   "outputs": [],
   "source": [
    "3:ans:-\n",
    "\n",
    "city=input(\"enter city\")\n",
    "\n",
    "if city==\"delhi\":\n",
    "    print(\"red fort\")\n",
    "elif city==\"agra\":\n",
    "    print(\"taj mahal\")\n",
    "elif city==\"jaipur\":\n",
    "    print(\"hawa mahal\")"
   ]
  },
  {
   "cell_type": "code",
   "execution_count": null,
   "id": "bf1f4042-6f0f-4f88-aa81-45a8da01ccb2",
   "metadata": {},
   "outputs": [],
   "source": [
    "4:ans:-\n",
    "\n",
    "count=0\n",
    "n=int(input(\"enter a number\"))\n",
    "\n",
    "while n>=10:\n",
    "    count=count+1\n",
    "    n=n/3\n",
    "print(count,\"times can be divided by 3 before it is less than or equal to 10.\")"
   ]
  },
  {
   "cell_type": "code",
   "execution_count": null,
   "id": "cc8d4aaa-d283-48b3-ba4e-c534f078bd37",
   "metadata": {},
   "outputs": [],
   "source": [
    "5:ans:-\n",
    "        WHILE LOOP :-\n",
    "    \n",
    "    While loop in pyton is used to execute a block of statement repeatedly until a given condition is satisfied\n",
    "    and when the condition become false , the line immediately after the loop in the program is executed . \n",
    "    \n",
    "And the while loop is used when it is impossible to determine the exact number of loop iterations in advance .\n",
    "\n",
    "        For Example :-\n",
    "    \n",
    "    Check how many times a given number can be dividedby 3 before it is less than or equal to 10\n",
    "    \n",
    "In this example we dont't have any idea , how many time the loop will execute . \n",
    "In this case we should use while loop and we already solved this example as question 4 . "
   ]
  },
  {
   "cell_type": "code",
   "execution_count": null,
   "id": "41dc8bee-56d6-4844-8691-96d8e8d0053a",
   "metadata": {},
   "outputs": [],
   "source": [
    "6:ans:-\n",
    "\n",
    "#1st\n",
    "n = int(input(\"enter number of rows :-\"))\n",
    "\n",
    "i = 1\n",
    "while i <= n:\n",
    "    j = 1\n",
    "    while j <= i:\n",
    "        print(\"*\", end = \" \")\n",
    "        j=j+1\n",
    "    print()\n",
    "    i=i+1\n",
    "    \n",
    "#2nd\n",
    "n = int(input(\"enter number of rows :-\"))\n",
    "\n",
    "i = 1\n",
    "while i <= n:\n",
    "    j = n\n",
    "    while j >= i:\n",
    "        print(\"*\", end = \" \")\n",
    "        j=j-1\n",
    "    print()\n",
    "    i=i+1\n",
    "    \n",
    "#3rd\n",
    "\n",
    "i=1\n",
    "while i<=5:\n",
    "    j=1\n",
    "    while j<=i:\n",
    "        print(j,end=\" \")\n",
    "        j=j+1\n",
    "    print(\"\")\n",
    "    i=i+1    "
   ]
  },
  {
   "cell_type": "code",
   "execution_count": null,
   "id": "8a31ae4d-5575-4d8b-b0ec-2862017959f3",
   "metadata": {},
   "outputs": [],
   "source": [
    "7: ans:-\n",
    "\n",
    "i=10\n",
    "\n",
    "while i<=0:\n",
    "    print(i)\n",
    "    i=i+1"
   ]
  },
  {
   "cell_type": "code",
   "execution_count": null,
   "id": "cf152c29-7ae5-4ffb-a5dc-fcb914c12d2c",
   "metadata": {},
   "outputs": [],
   "source": [
    "8:ans:-\n",
    "\n",
    "i=10\n",
    "\n",
    "while i<=0:\n",
    "    "
   ]
  }
 ],
 "metadata": {
  "kernelspec": {
   "display_name": "Python 3 (ipykernel)",
   "language": "python",
   "name": "python3"
  },
  "language_info": {
   "codemirror_mode": {
    "name": "ipython",
    "version": 3
   },
   "file_extension": ".py",
   "mimetype": "text/x-python",
   "name": "python",
   "nbconvert_exporter": "python",
   "pygments_lexer": "ipython3",
   "version": "3.10.8"
  }
 },
 "nbformat": 4,
 "nbformat_minor": 5
}
